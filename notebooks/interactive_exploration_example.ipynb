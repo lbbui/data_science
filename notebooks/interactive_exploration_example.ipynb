{
 "cells": [
  {
   "cell_type": "code",
   "execution_count": null,
   "metadata": {},
   "outputs": [],
   "source": [
    "import pandas as pd\n",
    "import pickle\n",
    "\n",
    "from sklearn.feature_extraction.text import TfidfVectorizer\n",
    "from sklearn.neighbors import BallTree\n",
    "from umap import UMAP\n",
    "\n",
    "from bokeh.io import output_notebook\n",
    "from bokeh.io.notebook import show_app\n",
    "from bokeh.layouts import row\n",
    "from bokeh.models.tools import TapTool, PanTool, BoxZoomTool, WheelZoomTool\n",
    "from bokeh.models.widgets import PreText\n",
    "from bokeh.layouts import layout, column, row, widgetbox\n",
    "\n",
    "import holoviews as hv\n",
    "from holoviews.operation.datashader import datashade\n",
    "from holoviews.plotting import bokeh\n",
    "hv.Store.current_backend = 'bokeh'\n",
    "renderer = hv.Store.renderers['bokeh'].instance(mode='server', holomap='server')\n",
    "output_notebook()\n",
    "\n",
    "import logging\n",
    "logger = logging.getLogger()\n",
    "logger.setLevel(logging.ERROR)"
   ]
  },
  {
   "cell_type": "markdown",
   "metadata": {},
   "source": [
    "# Interactive exploration"
   ]
  },
  {
   "cell_type": "markdown",
   "metadata": {},
   "source": [
    "## Fetch the 20 newsgroups dataset"
   ]
  },
  {
   "cell_type": "code",
   "execution_count": null,
   "metadata": {},
   "outputs": [],
   "source": [
    "from sklearn.datasets import fetch_20newsgroups\n",
    "\n",
    "d = fetch_20newsgroups(subset='train')\n",
    "d = d['data']"
   ]
  },
  {
   "cell_type": "code",
   "execution_count": null,
   "metadata": {},
   "outputs": [],
   "source": [
    "# Each item is an email of variable length\n",
    "\n",
    "d[0]"
   ]
  },
  {
   "cell_type": "markdown",
   "metadata": {},
   "source": [
    "## Embed the data into a vector space"
   ]
  },
  {
   "cell_type": "code",
   "execution_count": null,
   "metadata": {},
   "outputs": [],
   "source": [
    "# We first need to vectorize our text data\n",
    "\n",
    "X = TfidfVectorizer().fit_transform(d)"
   ]
  },
  {
   "cell_type": "code",
   "execution_count": null,
   "metadata": {},
   "outputs": [],
   "source": [
    "# Next we use UMAP to embed it into a 2-dimensional space\n",
    "# https://github.com/lmcinnes/umap\n",
    "\n",
    "embed = UMAP().fit_transform(X)\n",
    "\n",
    "#pickle.dump(embed, open('embed.p', 'wb'))\n",
    "#embed = pickle.load(open('embed.p', 'rb'))"
   ]
  },
  {
   "cell_type": "markdown",
   "metadata": {},
   "source": [
    "## Build a small interactive application"
   ]
  },
  {
   "cell_type": "code",
   "execution_count": null,
   "metadata": {},
   "outputs": [],
   "source": [
    "# When a user clicks on somewhere on the plot, we use this data structure to quickly determine the closest point\n",
    "\n",
    "tree = BallTree(embed, leaf_size=2) "
   ]
  },
  {
   "cell_type": "code",
   "execution_count": null,
   "metadata": {},
   "outputs": [],
   "source": [
    "# A typical Bokeh application\n",
    "\n",
    "def my_app(doc):\n",
    "    points = hv.Points(embed)\n",
    "    datashaded = datashade(points, x_sampling=0.01, y_sampling=0.01)\n",
    "    plot = renderer.get_plot(datashaded, doc=doc)\n",
    "    fig = plot.state\n",
    "    fig.height = 400\n",
    "    fig.width = 400\n",
    "\n",
    "    def callback(event):\n",
    "        # When you left-click on the plot\n",
    "        points = np.array([event.x, event.y]).reshape(1,-1)\n",
    "        dist, ind = tree.query(points, k=1)\n",
    "        dist = dist[0][0]\n",
    "        ind = ind[0][0]\n",
    "        if dist < 0.1:\n",
    "            pre.update(text=d[ind])\n",
    "            \n",
    "    fig.add_tools(TapTool())\n",
    "    fig.on_event('tap', callback)\n",
    "\n",
    "    # Make these tools active\n",
    "    for t in fig.tools:\n",
    "        if isinstance(t, TapTool):\n",
    "            fig.toolbar.active_tap = t\n",
    "        if isinstance(t, PanTool):\n",
    "            fig.toolbar.active_drag = t\n",
    "        if isinstance(t, WheelZoomTool):\n",
    "            fig.toolbar.active_scroll = t\n",
    "\n",
    "    pre = PreText(text=\"Left click on something\", width=400)\n",
    "    \n",
    "    doc_layout = layout([[row(fig, pre)]], sizing_mode='scale_width')\n",
    "    doc.add_root(doc_layout)"
   ]
  },
  {
   "cell_type": "markdown",
   "metadata": {},
   "source": [
    "## Interrogate the data\n",
    "- Use mouse wheel to zoom in and out\n",
    "- Left click on the point to display text\n",
    "- Pan around by holding down the left mouse button"
   ]
  },
  {
   "cell_type": "code",
   "execution_count": null,
   "metadata": {},
   "outputs": [],
   "source": [
    "# Note that the port parameter is a separate port used by the Bokeh server\n",
    "# In certain networking situations you may need to know this port beforehand\n",
    "\n",
    "show_app(my_app, None, notebook_url=\"http://localhost:8888\", port=8889)"
   ]
  },
  {
   "cell_type": "code",
   "execution_count": null,
   "metadata": {},
   "outputs": [],
   "source": []
  }
 ],
 "metadata": {
  "kernelspec": {
   "display_name": "Python 3",
   "language": "python",
   "name": "python3"
  },
  "language_info": {
   "codemirror_mode": {
    "name": "ipython",
    "version": 3
   },
   "file_extension": ".py",
   "mimetype": "text/x-python",
   "name": "python",
   "nbconvert_exporter": "python",
   "pygments_lexer": "ipython3",
   "version": "3.6.5"
  }
 },
 "nbformat": 4,
 "nbformat_minor": 2
}
